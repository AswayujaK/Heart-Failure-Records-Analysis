{
  "nbformat": 4,
  "nbformat_minor": 0,
  "metadata": {
    "colab": {
      "provenance": []
    },
    "kernelspec": {
      "name": "python3",
      "display_name": "Python 3"
    },
    "language_info": {
      "name": "python"
    }
  },
  "cells": [
    {
      "cell_type": "markdown",
      "source": [
        "# New section"
      ],
      "metadata": {
        "id": "usWLoAZLS8pg"
      }
    },
    {
      "cell_type": "code",
      "execution_count": 2,
      "metadata": {
        "colab": {
          "base_uri": "https://localhost:8080/",
          "height": 17
        },
        "id": "y2cPHjYZLsHn",
        "outputId": "13113989-f00e-40e5-bd02-533271f387ec"
      },
      "outputs": [
        {
          "output_type": "display_data",
          "data": {
            "text/plain": [
              "<IPython.core.display.Javascript object>"
            ],
            "application/javascript": [
              "\n",
              "    async function download(id, filename, size) {\n",
              "      if (!google.colab.kernel.accessAllowed) {\n",
              "        return;\n",
              "      }\n",
              "      const div = document.createElement('div');\n",
              "      const label = document.createElement('label');\n",
              "      label.textContent = `Downloading \"${filename}\": `;\n",
              "      div.appendChild(label);\n",
              "      const progress = document.createElement('progress');\n",
              "      progress.max = size;\n",
              "      div.appendChild(progress);\n",
              "      document.body.appendChild(div);\n",
              "\n",
              "      const buffers = [];\n",
              "      let downloaded = 0;\n",
              "\n",
              "      const channel = await google.colab.kernel.comms.open(id);\n",
              "      // Send a message to notify the kernel that we're ready.\n",
              "      channel.send({})\n",
              "\n",
              "      for await (const message of channel.messages) {\n",
              "        // Send a message to notify the kernel that we're ready.\n",
              "        channel.send({})\n",
              "        if (message.buffers) {\n",
              "          for (const buffer of message.buffers) {\n",
              "            buffers.push(buffer);\n",
              "            downloaded += buffer.byteLength;\n",
              "            progress.value = downloaded;\n",
              "          }\n",
              "        }\n",
              "      }\n",
              "      const blob = new Blob(buffers, {type: 'application/binary'});\n",
              "      const a = document.createElement('a');\n",
              "      a.href = window.URL.createObjectURL(blob);\n",
              "      a.download = filename;\n",
              "      div.appendChild(a);\n",
              "      a.click();\n",
              "      div.remove();\n",
              "    }\n",
              "  "
            ]
          },
          "metadata": {}
        },
        {
          "output_type": "display_data",
          "data": {
            "text/plain": [
              "<IPython.core.display.Javascript object>"
            ],
            "application/javascript": [
              "download(\"download_27b315d3-ef2f-48b2-ad1f-691cc68933ff\", \"heart_failure_clinical_records_dataset.csv\", 24609)"
            ]
          },
          "metadata": {}
        }
      ],
      "source": [
        "from google.colab import files\n",
        "import numpy as np\n",
        "import pandas as pd\n",
        "\n",
        "# Convert the binary values into string values\n",
        "df = pd.read_csv('heart_failure_clinical_records_dataset.csv')\n",
        "df['sex'] = np.where(df['sex'] == 0, \"Female\", \"Male\")\n",
        "df['anaemia'] = np.where(df['anaemia'] == 0, \"Not Present\", \"Present\")\n",
        "df['diabetes'] = np.where(df['diabetes'] == 0, \"Not Present\", \"Present\")\n",
        "df['high_blood_pressure'] = np.where(df['high_blood_pressure'] == 0, \"Not Present\", \"Present\")\n",
        "df['smoking'] = np.where(df['smoking'] == 0, \"No\", \"Yes\")\n",
        "df['DEATH_EVENT'] = np.where(df['DEATH_EVENT'] == 0, \"Dead\", \"Alive\")\n",
        "\n",
        "\n",
        "df.to_csv('heart_failure_clinical_records_dataset.csv', encoding='utf-8')\n",
        "files.download('heart_failure_clinical_records_dataset.csv')\n",
        "\n",
        "\n"
      ]
    }
  ]
}